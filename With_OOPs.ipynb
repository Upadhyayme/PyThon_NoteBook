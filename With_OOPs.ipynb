{
 "cells": [
  {
   "cell_type": "code",
   "execution_count": 1,
   "id": "95f7607a-6131-4521-aa9d-36aef9023691",
   "metadata": {},
   "outputs": [
    {
     "name": "stdout",
     "output_type": "stream",
     "text": [
      "hey there\n"
     ]
    }
   ],
   "source": [
    "print(\"hey there\")"
   ]
  },
  {
   "cell_type": "code",
   "execution_count": 4,
   "id": "5c416a4c-5d03-4069-a012-d3754bffe75d",
   "metadata": {},
   "outputs": [
    {
     "name": "stdout",
     "output_type": "stream",
     "text": [
      "<class 'int'>\n",
      "addition: 8\n",
      "Subtraction: -4\n",
      "Multiply: 12\n",
      "division: 0.3333333333333333\n"
     ]
    }
   ],
   "source": [
    "a = 2\n",
    "print(type(a))\n",
    "b = 6\n",
    "\n",
    "print(f\"addition: {a+b}\")\n",
    "print(f\"Subtraction: {a-b}\")\n",
    "print(f\"Multiply: {a*b}\")\n",
    "print(f\"division: {a/b}\")"
   ]
  },
  {
   "cell_type": "code",
   "execution_count": 8,
   "id": "09c59756-48ed-4b50-9fa5-334512e5253d",
   "metadata": {},
   "outputs": [
    {
     "name": "stdout",
     "output_type": "stream",
     "text": [
      "how much wood would a woodchuk chuk if a woodchuk could chuk a wood\n",
      "how much wood would a woodchuk chuk if a woodchuk could chuk a wood\n",
      "HOW MUCH WOOD WOULD A WOODCHUK CHUK IF A WOODCHUK COULD CHUK A WOOD\n",
      "67\n",
      "['how', 'much', 'wood', 'would', 'a', 'woodchuk', 'chuk', 'if', 'a', 'woodchuk', 'could', 'chuk', 'a', 'wood']\n",
      "hw much wood would a woodchuk chuk if a woodchuk could chuk a wood\n",
      "4\n",
      "20\n"
     ]
    }
   ],
   "source": [
    "#-------------------string ---------------------------------------------------------------\n",
    "s = \"how much wood would a woodchuk chuk if a woodchuk could chuk a wood\"\n",
    "print(s) #print string\n",
    "print(s.lower()) #lowercase the string\n",
    "print(s.upper()) #uppercase the string\n",
    "print(len(s)) #size of string\n",
    "print(s.split()) #splits all words\n",
    "\n",
    "s1 = s.replace('how', 'hw') #replace a substring\n",
    "print(s1)\n",
    "s2 = s.count(\"wood\") #count number of times word came\n",
    "print(s2)\n",
    "s3 = s.find('a') #find index value\n",
    "print(s3)"
   ]
  },
  {
   "cell_type": "code",
   "execution_count": 43,
   "id": "1ab49ea0-3bb2-4f29-a430-91bd058db738",
   "metadata": {},
   "outputs": [
    {
     "name": "stdout",
     "output_type": "stream",
     "text": [
      "e\n",
      "('a', 'true', 3)\n",
      "6\n",
      "(1, 'a', 'true', 3, 'e', 'false', 4, 9, 1, 8)\n",
      "(1, 'a', 'true', 3, 'e', 'false', 1, 'a', 'true', 3, 'e', 'false')\n",
      "9\n",
      "1\n",
      "(1, 'a', 'true', 3, 'e', 'false', 1, 'a', 'true', 3, 'e', 'false', 4, 9, 1, 8)\n"
     ]
    }
   ],
   "source": [
    "#---------------tuple------------------\n",
    "tup = (1,'a','true',3,'e',\"false\")\n",
    "tup1 = (4,9,1,8)\n",
    "print(tup[4]) #index element\n",
    "print(tup[1:4]) #first 3 elements\n",
    "\n",
    "print(len(tup)) #length of tuple\n",
    "print(tup+tup1) #concatenating tuple\n",
    "print(tup*2) #repeating elements n times\n",
    "print(max(tup1)) #maximum\n",
    "print(min(tup1)) #minimum\n",
    "print(tup*2+tup1) #concatenating + repeating"
   ]
  },
  {
   "cell_type": "code",
   "execution_count": 54,
   "id": "d2c73255-713a-4206-9364-927072390d71",
   "metadata": {},
   "outputs": [
    {
     "name": "stdout",
     "output_type": "stream",
     "text": [
      "1\n",
      "['r', 'true', 4]\n",
      "[9, 2, 7, 3]\n",
      "[6, 'r', 'true', 4, 'u', 't']\n",
      "[6, 'r', 'true', 4, 'u']\n",
      "[3, 7, 2, 9]\n",
      "[6, 'r', 'extra', 'true', 4, 'u']\n",
      "[2, 3, 7, 9]\n",
      "[2, 3, 7, 9, 6, 'r', 'extra', 'true', 4, 'u']\n",
      "[2, 3, 7, 9, 2, 3, 7, 9, 2, 3, 7, 9]\n"
     ]
    }
   ],
   "source": [
    "#--------------list-------------------\n",
    "l = [9,1,7,3]\n",
    "l1 = [6,'r',\"true\",4,'u']\n",
    "print(l[1]) #extract one element\n",
    "print(l1[1:4]) #range elements\n",
    "\n",
    "l[1] = 2 #replacing element\n",
    "print(l)\n",
    "l1.append('t') #adding element\n",
    "print(l1)\n",
    "l1.pop() #pop last element\n",
    "print(l1)\n",
    "l.reverse() #reverse string\n",
    "print(l)\n",
    "l1.insert(2, \"extra\") #insert element at specific place\n",
    "print(l1)\n",
    "l.sort() #sorting elements\n",
    "print(l)\n",
    "print(l+l1) #concatenating list\n",
    "print(l*3) #repeating \n"
   ]
  },
  {
   "cell_type": "code",
   "execution_count": 21,
   "id": "af9b98fb-646e-4bb4-aef4-d2a12ba3e692",
   "metadata": {},
   "outputs": [
    {
     "name": "stdout",
     "output_type": "stream",
     "text": [
      "dict_keys(['brand', 'color', 'year'])\n",
      "dict_values(['ford', 'blue', '2000'])\n",
      "{'brand': 'ford', 'color': 'blue', 'year': '2000', 'mileage': '50'}\n",
      "{'brand': 'ford', 'color': 'red', 'year': '2000', 'mileage': '50'}\n",
      "{'brand': 'ford', 'color': 'pink', 'year': '2000', 'mileage': '50', 'speed': '60'}\n",
      "{'brand': 'ford', 'color': 'pink', 'mileage': '50', 'speed': '60'}\n"
     ]
    }
   ],
   "source": [
    "#--------------Dict---------------------\n",
    "dict = { 'brand': 'ford', 'color': 'blue', \"year\": '2000' }\n",
    "print(dict.keys()) #print key \n",
    "print(dict.values()) #print values\n",
    "\n",
    "dict['mileage'] = '50' #adding new elements\n",
    "print(dict)\n",
    "dict['color'] = 'red' #change existing values\n",
    "print(dict)\n",
    "\n",
    "dict1 = {'color': 'pink', 'speed': '60' } #update dict\n",
    "dict.update(dict1)\n",
    "print(dict)\n",
    "\n",
    "dict.pop(\"year\") #pop the element\n",
    "print(dict)\n"
   ]
  },
  {
   "cell_type": "code",
   "execution_count": 34,
   "id": "c4e8ed00-caec-4a36-8f6d-0e4615bfd982",
   "metadata": {},
   "outputs": [
    {
     "name": "stdout",
     "output_type": "stream",
     "text": [
      "{'apple', 'cherry', 'berry'}\n",
      "{'apple', 'cherry', 'hello', 'berry'}\n",
      "{'date', 'apple', 'berry', 'figs', 'cherry', 'hello'}\n",
      "{'date', 'apple', 10, 'figs', 30}\n",
      "{'date', 'apple', 'figs', 30}\n",
      "{'date', 'apple', 'berry', 'figs', 'cherry', 'hello'}\n",
      "{'date', 'figs', 'apple'}\n"
     ]
    }
   ],
   "source": [
    "#--------------Set--------------------\n",
    "set1 = {\"apple\",\"berry\",'cherry'}\n",
    "print(set1)\n",
    "set1.add(\"hello\") #adds elements to the set\n",
    "print(set1)\n",
    "\n",
    "set2 = {'date','apple','figs'} #update one set eith other\n",
    "set1.update(set2)\n",
    "print(set1)\n",
    "set2.update([10,30]) #update set itself\n",
    "print(set2)\n",
    "\n",
    "set2.remove(10) #remove an element\n",
    "print(set2)\n",
    "set1.union(set2) #union of sets\n",
    "print(set1)\n",
    "set1.intersection_update(set2) #intersection of sets\n",
    "print(set1)"
   ]
  },
  {
   "cell_type": "code",
   "execution_count": 11,
   "id": "64cbedc6-7cac-479f-b056-9c2ac810c6c6",
   "metadata": {},
   "outputs": [
    {
     "name": "stdin",
     "output_type": "stream",
     "text": [
      "Enter a number:  67\n"
     ]
    },
    {
     "name": "stdout",
     "output_type": "stream",
     "text": [
      "Positive number\n",
      "3 is in the list.\n",
      "rano is older\n"
     ]
    }
   ],
   "source": [
    "#----------------If-Else--Statement-----------------------\n",
    "number = int(input('Enter a number: ')) #taking input\n",
    "if number > 0:   #else-if statement\n",
    "    print('Positive number')\n",
    "else:\n",
    "    print('Not a positive number')\n",
    "\n",
    "my_lst = [2, 3, 4, 5]  #if-else with list\n",
    "if 3 in my_lst:\n",
    "    print(\"3 is in the list.\")\n",
    "else:\n",
    "    print(\"3 is not in the list.\")\n",
    "    \n",
    "dicto = {'name': 'rano', 'age': 34, 'work': 'cleaner'} #if-else with dictionary\n",
    "if dicto['age'] > 20:\n",
    "    print(\"rano is older\")\n",
    "else:\n",
    "    print(\"rano is younger\")"
   ]
  },
  {
   "cell_type": "code",
   "execution_count": 2,
   "id": "5edebbfc-4562-4993-bce1-abb1f71fdcf3",
   "metadata": {},
   "outputs": [
    {
     "name": "stdout",
     "output_type": "stream",
     "text": [
      "It's cold outside!\n"
     ]
    }
   ],
   "source": [
    "#----------------Else-If--Statement-----------------------\n",
    "temperature = 0  #else-if statement\n",
    "if temperature > 35: \n",
    "    print(\"It's really hot outside!\")\n",
    "elif temperature > 25: \n",
    "    print(\"The weather is warm.\")\n",
    "else:\n",
    "    print(\"It's cold outside!\")"
   ]
  },
  {
   "cell_type": "code",
   "execution_count": 13,
   "id": "d2536418-3836-4d21-aefc-3be0a6333a7c",
   "metadata": {},
   "outputs": [
    {
     "name": "stdout",
     "output_type": "stream",
     "text": [
      "The count is: 0\n",
      "The count is: 1\n",
      "The count is: 2\n",
      "The count is: 3\n",
      "The count is: 4\n",
      "Loop ended.\n",
      "Iteration 0\n",
      "Iteration 1\n",
      "Iteration 2\n",
      "Iteration 3\n",
      "Iteration 4\n"
     ]
    }
   ],
   "source": [
    "#----------------While--Statement-----------------------\n",
    "count = 0   #repeat multiple times\n",
    "while count < 5:\n",
    "    print(\"The count is:\", count)\n",
    "    count += 1\n",
    "print(\"Loop ended.\")\n",
    "\n",
    "for i in range(5): #iterate\n",
    "    print(f\"Iteration {i}\")"
   ]
  },
  {
   "cell_type": "code",
   "execution_count": 45,
   "id": "b4a86eb1-6807-4e52-8992-de6efeb91f89",
   "metadata": {},
   "outputs": [
    {
     "name": "stdin",
     "output_type": "stream",
     "text": [
      "Enter a number:  22\n"
     ]
    },
    {
     "name": "stdout",
     "output_type": "stream",
     "text": [
      "x is even\n",
      "512\n"
     ]
    }
   ],
   "source": [
    "#-----------------Function-----------------------\n",
    "x = int(input(\"Enter a number: \")) # Function to check even or odd\n",
    "def odd_even(x):\n",
    "    if x % 2 == 0:\n",
    "        print(\"x is even\")\n",
    "    else:\n",
    "        print(\"x is odd\")\n",
    "odd_even(x)  # Call the function\n",
    "\n",
    "g = lambda x: x*x*x  # power function\n",
    "print(g(8))"
   ]
  },
  {
   "cell_type": "code",
   "execution_count": 13,
   "id": "8dadfe32-aea4-406a-bc6d-feb55d4b1b4e",
   "metadata": {},
   "outputs": [
    {
     "name": "stdout",
     "output_type": "stream",
     "text": [
      "making call\n",
      "playing game\n"
     ]
    }
   ],
   "source": [
    "#-----------------OOPs--Concept-----------------------\n",
    "class phone:\n",
    "    def make_call(self):  #function\n",
    "        print(\"making call\")\n",
    "    def play_game(self):\n",
    "        print(\"playing game\")\n",
    "\n",
    "p1 = phone()  # creating object\n",
    "p1.make_call()  # invoking method\n",
    "p1.play_game()  # invoking method"
   ]
  },
  {
   "cell_type": "code",
   "execution_count": 20,
   "id": "4dee343f-7f4c-427e-a87a-e077c8f7f546",
   "metadata": {},
   "outputs": [
    {
     "name": "stdout",
     "output_type": "stream",
     "text": [
      "sea blue\n"
     ]
    }
   ],
   "source": [
    "#adding parameters \n",
    "class phone1:\n",
    "    def set_color(self, color):\n",
    "        self.color = color\n",
    "    def show_color(self):\n",
    "        return self.color\n",
    "        \n",
    "p2 = phone1()\n",
    "p2.set_color(\"sea blue\")\n",
    "print(p2.show_color())"
   ]
  },
  {
   "cell_type": "code",
   "execution_count": 29,
   "id": "2f47a7ed-e318-4f5b-b172-7788706c2dbc",
   "metadata": {},
   "outputs": [
    {
     "name": "stdout",
     "output_type": "stream",
     "text": [
      "Name:  Ram\n",
      "Age:  20\n",
      "Salary:  800000\n"
     ]
    }
   ],
   "source": [
    "#----------------onstructors-----------------------\n",
    "class Emp:\n",
    "    def __init__(self, name, age, salary):  # constructor\n",
    "        self.name = name\n",
    "        self.age = age\n",
    "        self.salary = salary\n",
    "\n",
    "    def emp_detail(self):  #method name\n",
    "        print(\"Name: \", self.name)\n",
    "        print(\"Age: \", self.age)\n",
    "        print(\"Salary: \", self.salary)\n",
    "\n",
    "e1 = Emp('Ram', 20, 800000)\n",
    "e1.emp_detail()  #method call\n",
    "\n",
    "    "
   ]
  },
  {
   "cell_type": "code",
   "execution_count": 20,
   "id": "f9f42b5e-55d7-4641-85ef-07ba12ef7dba",
   "metadata": {},
   "outputs": [
    {
     "name": "stdout",
     "output_type": "stream",
     "text": [
      "I am a vehicle\n",
      "Cost is: 50000\n",
      "I am a vehicle\n",
      "Cost is: 20000\n",
      "I am a car\n",
      "Mileage: 15\n",
      "Tyres: 4\n",
      "Horsepower: 120\n"
     ]
    }
   ],
   "source": [
    "#----------------------Inheritance-----------------\n",
    "# Base class\n",
    "class Vehicle:\n",
    "    def __init__(self, cost):\n",
    "        self.cost = cost\n",
    "\n",
    "    def show_det(self):\n",
    "        print(\"I am a vehicle\")\n",
    "        print(\"Cost is:\", self.cost)\n",
    "\n",
    "v1 = Vehicle(50000)\n",
    "v1.show_det()\n",
    "\n",
    "class Car(Vehicle):\n",
    "    def __init__(self, cost, mileage, tyres, hp):  # Overriding init method in child class\n",
    "        super().__init__(cost)  # Only pass cost to Vehicle\n",
    "        self.mileage = mileage\n",
    "        self.tyres = tyres\n",
    "        self.hp = hp\n",
    "\n",
    "    def show_car(self): #define instance(is a reference)\n",
    "        print(\"I am a car\")\n",
    "        print(\"Mileage:\", self.mileage)\n",
    "        print(\"Tyres:\", self.tyres)\n",
    "        print(\"Horsepower:\", self.hp)\n",
    "\n",
    "c1 = Car(20000, 15, 4, 120) # Creating an object of the child class\n",
    "c1.show_det()     # From Vehicle\n",
    "c1.show_car()     # From Car"
   ]
  },
  {
   "cell_type": "code",
   "execution_count": 45,
   "id": "a8a8915a-6df8-460a-b4a6-07a809eb31f7",
   "metadata": {},
   "outputs": [
    {
     "name": "stdout",
     "output_type": "stream",
     "text": [
      "I am string of parent one\n",
      "I am string of parent two\n"
     ]
    },
    {
     "data": {
      "text/plain": [
       "'I am string of child class'"
      ]
     },
     "execution_count": 45,
     "metadata": {},
     "output_type": "execute_result"
    }
   ],
   "source": [
    "#--------------------Multiple--Inheritance-----------\n",
    "class parentone(): #parent one \n",
    "    def assign_string_one(self, str1): #assigning string \n",
    "        self.str1 = str1\n",
    "    def show_string_one(self):\n",
    "        return self.str1\n",
    "\n",
    "class parenttwo(): #parent two \n",
    "     def assign_string_two(self, str2):\n",
    "         self.str2 = str2\n",
    "     def show_string_two(self):\n",
    "         return self.str2\n",
    "         \n",
    "class child(parentone, parenttwo): #child class \n",
    "    def assign_string_three(self, str3):\n",
    "        self.str3 = str3\n",
    "    def show_string_three(self):\n",
    "        return self.str3\n",
    "\n",
    "my_child = child() #object creating\n",
    "my_child.assign_string_one(\"I am string of parent one\")\n",
    "my_child.assign_string_two(\"I am string of parent two\")\n",
    "my_child.assign_string_three('I am string of child class')\n",
    "\n",
    "print(my_child.show_string_one())\n",
    "print(my_child.show_string_two())\n",
    "my_child.show_string_three()"
   ]
  },
  {
   "cell_type": "code",
   "execution_count": 8,
   "id": "1901db81-837d-4a02-8aa0-299ed939d4d0",
   "metadata": {},
   "outputs": [
    {
     "name": "stdout",
     "output_type": "stream",
     "text": [
      "aruu\n",
      "23\n"
     ]
    },
    {
     "data": {
      "text/plain": [
       "'female'"
      ]
     },
     "execution_count": 8,
     "metadata": {},
     "output_type": "execute_result"
    }
   ],
   "source": [
    "#-------------Multilevel--Inheritance--------------\n",
    "class parent(): \n",
    "    def assign_name(self, name):\n",
    "        self.name = name\n",
    "    def show_name(self):\n",
    "        return self.name\n",
    "\n",
    "class child(parent):\n",
    "    def assign_age(self, age):\n",
    "        self.age = age\n",
    "    def show_age(self):\n",
    "        return self.age\n",
    "\n",
    "class grandchild(child):\n",
    "    def assign_gender(self, gender):\n",
    "        self.gender = gender\n",
    "    def show_gender(self):\n",
    "        return self.gender\n",
    "\n",
    "my_grand = grandchild() #object making\n",
    "my_grand.assign_name(\"aruu\")\n",
    "my_grand.assign_age(23)\n",
    "my_grand.assign_gender('female')\n",
    "\n",
    "print(my_grand.show_name()) \n",
    "print(my_grand.show_age())\n",
    "my_grand.show_gender()"
   ]
  }
 ],
 "metadata": {
  "kernelspec": {
   "display_name": "Python 3 (ipykernel)",
   "language": "python",
   "name": "python3"
  },
  "language_info": {
   "codemirror_mode": {
    "name": "ipython",
    "version": 3
   },
   "file_extension": ".py",
   "mimetype": "text/x-python",
   "name": "python",
   "nbconvert_exporter": "python",
   "pygments_lexer": "ipython3",
   "version": "3.12.7"
  }
 },
 "nbformat": 4,
 "nbformat_minor": 5
}
